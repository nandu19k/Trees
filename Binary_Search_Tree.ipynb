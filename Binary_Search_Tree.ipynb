{
  "nbformat": 4,
  "nbformat_minor": 0,
  "metadata": {
    "colab": {
      "name": "Binary Search Tree.ipynb",
      "provenance": [],
      "collapsed_sections": []
    },
    "kernelspec": {
      "name": "python3",
      "display_name": "Python 3"
    }
  },
  "cells": [
    {
      "cell_type": "code",
      "metadata": {
        "id": "LYgs06USZzsl"
      },
      "source": [
        "class BinarySearchTree:\n",
        "  def __init__(self, data):\n",
        "    self.data = data\n",
        "    self.left = None\n",
        "    self.right = None\n",
        "\n",
        "  def add_child(self , data):\n",
        "    if self.data == data:\n",
        "      return\n",
        "    if self.data > data:\n",
        "      if self.left:\n",
        "        self.left.add_child(data)\n",
        "      else:\n",
        "        self.left = BinarySearchTree(data)\n",
        "    else:\n",
        "      if self.right:\n",
        "        self.right.add_child(data)\n",
        "      else:\n",
        "        self.right = BinarySearchTree(data)\n",
        "\n",
        "  def search(self , val):\n",
        "    if self.data == val:\n",
        "      return True\n",
        "\n",
        "    if self.data < val:\n",
        "      if self.right:\n",
        "        return self.right.search(val)\n",
        "      else:\n",
        "        return False\n",
        "\n",
        "    else:\n",
        "      if self.left:\n",
        "        return self.left.search(val)\n",
        "      else:\n",
        "        return False\n",
        "\n",
        "  def find_min(self):\n",
        "    if self.left is None:\n",
        "      return self.data\n",
        "    return self.left.find_min()\n",
        "\n",
        "  def find_max(self):\n",
        "    if self.right is None:\n",
        "      return self.data\n",
        "\n",
        "    return self.right.find_max()\n",
        "\n",
        "  def delete(self, val):\n",
        "        if val < self.data:\n",
        "            if self.left:\n",
        "                self.left = self.left.delete(val)\n",
        "        elif val > self.data:\n",
        "            if self.right:\n",
        "                self.right = self.right.delete(val)\n",
        "        else:\n",
        "            if self.left is None and self.right is None:\n",
        "                return None\n",
        "            elif self.left is None:\n",
        "                return self.right\n",
        "            elif self.right is None:\n",
        "                return self.left\n",
        "\n",
        "            min_val = self.right.find_min()\n",
        "            self.data = min_val\n",
        "            self.right = self.right.delete(min_val)\n",
        "\n",
        "        return self\n",
        "    \n",
        "    "
      ],
      "execution_count": 1,
      "outputs": []
    },
    {
      "cell_type": "code",
      "metadata": {
        "id": "eO1DWclQbhIL"
      },
      "source": [
        "def add(node):\n",
        "  if node is None:\n",
        "    return 0\n",
        "  return node.data + add(node.left) + add(node.right)"
      ],
      "execution_count": 2,
      "outputs": []
    },
    {
      "cell_type": "code",
      "metadata": {
        "id": "3QW5pHtfb2Ic"
      },
      "source": [
        "def in_order(node):\n",
        "  if node is not None:\n",
        "    in_order(node.left)\n",
        "    print(node.data)\n",
        "    in_order(node.right)\n",
        "\n",
        "def pre_order(node):\n",
        "  if node is not None:\n",
        "    print(node.data)\n",
        "    pre_order(node.left)\n",
        "    pre_order(node.right)\n",
        "\n",
        "\n",
        "def post_order(node):\n",
        "  if node is not None:\n",
        "    post_order(node.left)\n",
        "    post_order(node.right)\n",
        "    print(node.data)\n",
        "\n",
        "def build_tree(elements):\n",
        "  root = BinarySearchTree(elements[0])\n",
        "\n",
        "  for i in range(1, len(elements)):\n",
        "    root.add_child(elements[i])\n",
        "\n",
        "  return root"
      ],
      "execution_count": 3,
      "outputs": []
    },
    {
      "cell_type": "code",
      "metadata": {
        "id": "z4BEDpo2c2GU",
        "outputId": "3b4b49d9-5e6a-44e6-81b2-83401a75b426",
        "colab": {
          "base_uri": "https://localhost:8080/"
        }
      },
      "source": [
        "if __name__ == '__main__':\n",
        "  numbers = [17, 4, 1, 20, 9, 23, 18, 34]\n",
        "\n",
        "  numbers = [15,12,7,14,27,20,23,88 ]\n",
        "\n",
        "  numbers_tree = build_tree(numbers)\n",
        "  print(\"Input numbers:\",numbers)\n",
        "  print(\"Min:\",numbers_tree.find_min())\n",
        "  print(\"Max:\",numbers_tree.find_max())\n"
      ],
      "execution_count": 4,
      "outputs": [
        {
          "output_type": "stream",
          "text": [
            "Input numbers: [15, 12, 7, 14, 27, 20, 23, 88]\n",
            "Min: 7\n",
            "Max: 88\n"
          ],
          "name": "stdout"
        }
      ]
    },
    {
      "cell_type": "code",
      "metadata": {
        "id": "x_F-eGeNdW8B",
        "outputId": "006a3041-fd5c-405c-b9f8-ed2d3a7be7cf",
        "colab": {
          "base_uri": "https://localhost:8080/"
        }
      },
      "source": [
        "in_order(numbers_tree)"
      ],
      "execution_count": 5,
      "outputs": [
        {
          "output_type": "stream",
          "text": [
            "7\n",
            "12\n",
            "14\n",
            "15\n",
            "20\n",
            "23\n",
            "27\n",
            "88\n"
          ],
          "name": "stdout"
        }
      ]
    },
    {
      "cell_type": "code",
      "metadata": {
        "id": "eL0BmisCdg4k",
        "outputId": "c023b836-0fe7-488c-f309-bdc153e0cf21",
        "colab": {
          "base_uri": "https://localhost:8080/"
        }
      },
      "source": [
        "numbers_tree.search(1)"
      ],
      "execution_count": 6,
      "outputs": [
        {
          "output_type": "execute_result",
          "data": {
            "text/plain": [
              "False"
            ]
          },
          "metadata": {
            "tags": []
          },
          "execution_count": 6
        }
      ]
    },
    {
      "cell_type": "code",
      "metadata": {
        "id": "qZJfv-McdbF-",
        "outputId": "0709952d-3798-457c-c69d-477cf0f6513a",
        "colab": {
          "base_uri": "https://localhost:8080/"
        }
      },
      "source": [
        "add(numbers_tree)"
      ],
      "execution_count": 7,
      "outputs": [
        {
          "output_type": "execute_result",
          "data": {
            "text/plain": [
              "206"
            ]
          },
          "metadata": {
            "tags": []
          },
          "execution_count": 7
        }
      ]
    },
    {
      "cell_type": "code",
      "metadata": {
        "id": "2kf2yBKUqIGe",
        "outputId": "cc4b7fec-ecd7-4a84-aef6-72dd4c15d0d6",
        "colab": {
          "base_uri": "https://localhost:8080/"
        }
      },
      "source": [
        "numbers_tree.find_min()"
      ],
      "execution_count": 8,
      "outputs": [
        {
          "output_type": "execute_result",
          "data": {
            "text/plain": [
              "7"
            ]
          },
          "metadata": {
            "tags": []
          },
          "execution_count": 8
        }
      ]
    },
    {
      "cell_type": "code",
      "metadata": {
        "id": "n-eEUAFmpGbh",
        "outputId": "dc90858b-2347-4cc8-f926-c9bc2638b7ce",
        "colab": {
          "base_uri": "https://localhost:8080/"
        }
      },
      "source": [
        "numbers_tree.delete(15)"
      ],
      "execution_count": 9,
      "outputs": [
        {
          "output_type": "execute_result",
          "data": {
            "text/plain": [
              "<__main__.BinarySearchTree at 0x7f3b078c0b70>"
            ]
          },
          "metadata": {
            "tags": []
          },
          "execution_count": 9
        }
      ]
    },
    {
      "cell_type": "code",
      "metadata": {
        "id": "mCni9H5isEyU",
        "outputId": "376938fc-8288-45be-98e9-055774eb5d69",
        "colab": {
          "base_uri": "https://localhost:8080/"
        }
      },
      "source": [
        "in_order(numbers_tree)"
      ],
      "execution_count": 10,
      "outputs": [
        {
          "output_type": "stream",
          "text": [
            "7\n",
            "12\n",
            "14\n",
            "20\n",
            "23\n",
            "27\n",
            "88\n"
          ],
          "name": "stdout"
        }
      ]
    },
    {
      "cell_type": "code",
      "metadata": {
        "id": "aPN_7RcOpJCr",
        "outputId": "bb471a87-67b0-4f03-9ca4-0ff5cc4e3064",
        "colab": {
          "base_uri": "https://localhost:8080/"
        }
      },
      "source": [
        "numbers_tree.delete(88)"
      ],
      "execution_count": 11,
      "outputs": [
        {
          "output_type": "execute_result",
          "data": {
            "text/plain": [
              "<__main__.BinarySearchTree at 0x7f3b078c0b70>"
            ]
          },
          "metadata": {
            "tags": []
          },
          "execution_count": 11
        }
      ]
    },
    {
      "cell_type": "code",
      "metadata": {
        "id": "GsTYDBapwC_4",
        "outputId": "b6d9af93-ab72-47f1-ee2b-74fcc14411fa",
        "colab": {
          "base_uri": "https://localhost:8080/"
        }
      },
      "source": [
        "in_order(numbers_tree)"
      ],
      "execution_count": 12,
      "outputs": [
        {
          "output_type": "stream",
          "text": [
            "7\n",
            "12\n",
            "14\n",
            "20\n",
            "23\n",
            "27\n"
          ],
          "name": "stdout"
        }
      ]
    }
  ]
}