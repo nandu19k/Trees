{
  "nbformat": 4,
  "nbformat_minor": 0,
  "metadata": {
    "colab": {
      "name": "AVL tree insertion.ipynb",
      "provenance": []
    },
    "kernelspec": {
      "name": "python3",
      "display_name": "Python 3"
    }
  },
  "cells": [
    {
      "cell_type": "code",
      "metadata": {
        "id": "5BSrDsIp9I7M"
      },
      "source": [
        "class TreeNode:\r\n",
        "  def __init__(self , val):\r\n",
        "    self.val = val\r\n",
        "    self.left = None\r\n",
        "    self.right = None\r\n",
        "    self.height = 1"
      ],
      "execution_count": 1,
      "outputs": []
    },
    {
      "cell_type": "code",
      "metadata": {
        "id": "2OxzovbSCtcf"
      },
      "source": [
        "class AVL_Tree:\r\n",
        "  def getHeight(self , root):\r\n",
        "    if not root:\r\n",
        "      return 0\r\n",
        "    return root.height\r\n",
        "  \r\n",
        "  def balance(self , root):\r\n",
        "    if not root:\r\n",
        "      return 0\r\n",
        "    return self.getHeight(root.left) - self.getHeight(root.right)\r\n",
        "\r\n",
        "  def insert(self , root , key):\r\n",
        "    if not root:\r\n",
        "      return TreeNode(key)\r\n",
        "    elif key < root.val:\r\n",
        "      root.left = self.insert(root.left , key)\r\n",
        "    elif key > root.val:\r\n",
        "      root.right = self.insert(root.right , key)\r\n",
        "\r\n",
        "    \r\n",
        "    root.height = 1 + max(self.getHeight(root.left) , self.getHeight(root.right))\r\n",
        "\r\n",
        "    balance = self.balance(root)\r\n",
        "\r\n",
        "    if balance > 1 and key < root.left.val:\r\n",
        "      return self.rightRotate(root)\r\n",
        "    elif balance > 1 and key > root.left.val:\r\n",
        "      rooot.left = self.leftRotate(root.left)\r\n",
        "      return self.rightRotate(root)\r\n",
        "    elif balance < -1 and key > root.right.val:\r\n",
        "      return self.leftRotate(root)\r\n",
        "    elif balance < -1 and key < root.right.val:\r\n",
        "      root.right = self.rightRotate(root.right)\r\n",
        "      return self.leftRotate(root)\r\n",
        "    return root\r\n",
        "\r\n",
        "  def leftRotate(self , z):\r\n",
        "    y = z.right\r\n",
        "    T2 = y.left\r\n",
        "\r\n",
        "    y.left = z\r\n",
        "    z.right = T2\r\n",
        "\r\n",
        "    z.height = 1 + max(self.getHeight(z.left) , self.getHeight(z.right))\r\n",
        "    y.height = 1 + max(self.getHeight(y.left) , self.getHeight(y.right))\r\n",
        "\r\n",
        "    return y\r\n",
        "\r\n",
        "  def rightRotate(self , z):\r\n",
        "    y = z.left\r\n",
        "    T2 = y.right\r\n",
        "\r\n",
        "    y.right = z\r\n",
        "    z.left = T2\r\n",
        "\r\n",
        "    z.height = 1 + max(self.getHeight(z.left) , self.getHeight(z.right))\r\n",
        "    y.height = 1 + max(self.getHeight(y.left) , self.getHeight(y.right))\r\n",
        "\r\n",
        "    return y\r\n",
        "\r\n",
        "  def preOrder(self, root): \r\n",
        "  \r\n",
        "      if not root: \r\n",
        "          return\r\n",
        "  \r\n",
        "      print(\"{0} \".format(root.val), end=\"\") \r\n",
        "      self.preOrder(root.left) \r\n",
        "      self.preOrder(root.right) \r\n",
        "  \r\n",
        "\r\n",
        "                 "
      ],
      "execution_count": 2,
      "outputs": []
    },
    {
      "cell_type": "code",
      "metadata": {
        "colab": {
          "base_uri": "https://localhost:8080/"
        },
        "id": "3x5aM440DDZ_",
        "outputId": "f6a4aa9f-355e-40a5-8ee3-8ea49c446b11"
      },
      "source": [
        "myTree = AVL_Tree() \r\n",
        "root = None\r\n",
        "  \r\n",
        "root = myTree.insert(root, 10) \r\n",
        "root = myTree.insert(root, 20) \r\n",
        "root = myTree.insert(root, 30) \r\n",
        "root = myTree.insert(root, 40) \r\n",
        "root = myTree.insert(root, 50) \r\n",
        "root = myTree.insert(root, 25) \r\n",
        "\r\n",
        "print(\"Preorder traversal of the\", \r\n",
        "      \"constructed AVL tree is\") \r\n",
        "myTree.preOrder(root) \r\n",
        "print() \r\n",
        "  "
      ],
      "execution_count": 3,
      "outputs": [
        {
          "output_type": "stream",
          "text": [
            "Preorder traversal of the constructed AVL tree is\n",
            "30 20 10 25 40 50 \n"
          ],
          "name": "stdout"
        }
      ]
    }
  ]
}