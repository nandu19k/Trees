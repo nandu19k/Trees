{
  "nbformat": 4,
  "nbformat_minor": 0,
  "metadata": {
    "colab": {
      "name": "Tries.ipynb",
      "provenance": []
    },
    "kernelspec": {
      "name": "python3",
      "display_name": "Python 3"
    }
  },
  "cells": [
    {
      "cell_type": "code",
      "metadata": {
        "id": "2KflI5hMPCTO"
      },
      "source": [
        "class TrieNode:\r\n",
        "  def __init__(self):\r\n",
        "    self.children = {}\r\n",
        "    self.endOfString = False"
      ],
      "execution_count": 1,
      "outputs": []
    },
    {
      "cell_type": "code",
      "metadata": {
        "id": "HAD9xTJuPUcp"
      },
      "source": [
        "class Trie:\r\n",
        "  def __init__(self):\r\n",
        "    self.root = TrieNode()\r\n",
        "\r\n",
        "  def insertString(self , word):\r\n",
        "    currentNode = self.root\r\n",
        "    for i in word:\r\n",
        "      ch = i\r\n",
        "      node = currentNode.children.get(ch)\r\n",
        "      if node == None:\r\n",
        "        node = TrieNode()\r\n",
        "        currentNode.children.update({ch:node})\r\n",
        "      currentNode = node\r\n",
        "    currentNode.endOfString = True\r\n",
        "    print(\"Succesfully Inserted!!\")\r\n",
        "\r\n",
        "  def searchString(self , word):\r\n",
        "    currentNode = self.root\r\n",
        "    for i in word:\r\n",
        "      ch = i\r\n",
        "      node = currentNode.children.get(ch)\r\n",
        "      if node == None:\r\n",
        "        return False\r\n",
        "      currentNode = node\r\n",
        "    \r\n",
        "    if currentNode.endOfString == True:\r\n",
        "      return True\r\n",
        "    else:\r\n",
        "      return False\r\n",
        "      "
      ],
      "execution_count": 2,
      "outputs": []
    },
    {
      "cell_type": "code",
      "metadata": {
        "id": "ux5hakPnQ8tM"
      },
      "source": [
        "def deleteString(root , word , index):\r\n",
        "  ch = word[index]\r\n",
        "  currentNode = root.children.get(ch)\r\n",
        "  canThisNodeBeDeleted = False\r\n",
        "\r\n",
        "  if len(currentNode.children) > 1:\r\n",
        "    deleteString(currentNode , word , index+1)\r\n",
        "    return False\r\n",
        "\r\n",
        "  if index == len(word)-1:\r\n",
        "    if len(currentNode.children) >= 1:\r\n",
        "      currentNode.endOfString = False\r\n",
        "      return False\r\n",
        "    else:\r\n",
        "      root.children.pop(ch)\r\n",
        "      return True\r\n",
        "\r\n",
        "  if currentNode.endOfString == True:\r\n",
        "    deleteString(currentNode , word , index+1)\r\n",
        "    return False\r\n",
        "\r\n",
        "  canThisNodeBeDeleted = deleteString(currentNode , word , index+1)\r\n",
        "\r\n",
        "  if canThisNodeBeDeleted == True:\r\n",
        "    root.children.pop(ch)\r\n",
        "    return True\r\n",
        "  else:\r\n",
        "    return False"
      ],
      "execution_count": 3,
      "outputs": []
    },
    {
      "cell_type": "code",
      "metadata": {
        "colab": {
          "base_uri": "https://localhost:8080/"
        },
        "id": "6H4bohPdhe99",
        "outputId": "b3d63b50-3d20-4d52-8a72-166e34785aee"
      },
      "source": [
        "ob = Trie()\r\n",
        "ob.insertString('nandu')\r\n",
        "ob.searchString('nandu')\r\n",
        "deleteString(ob.root , 'nan' , 0)"
      ],
      "execution_count": 4,
      "outputs": [
        {
          "output_type": "stream",
          "text": [
            "Succesfully Inserted!!\n"
          ],
          "name": "stdout"
        },
        {
          "output_type": "execute_result",
          "data": {
            "text/plain": [
              "False"
            ]
          },
          "metadata": {
            "tags": []
          },
          "execution_count": 4
        }
      ]
    },
    {
      "cell_type": "code",
      "metadata": {
        "id": "v0k7Euu5cHBu",
        "outputId": "8bd9a0ed-0b3d-4f4f-f6ea-1f8adee14d74",
        "colab": {
          "base_uri": "https://localhost:8080/"
        }
      },
      "source": [
        "\r\n",
        "deleteString(ob.root , 'nandu' , 0)"
      ],
      "execution_count": 5,
      "outputs": [
        {
          "output_type": "execute_result",
          "data": {
            "text/plain": [
              "True"
            ]
          },
          "metadata": {
            "tags": []
          },
          "execution_count": 5
        }
      ]
    }
  ]
}