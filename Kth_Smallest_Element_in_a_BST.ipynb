{
  "nbformat": 4,
  "nbformat_minor": 0,
  "metadata": {
    "colab": {
      "name": "Kth Smallest Element in a BST.ipynb",
      "provenance": []
    },
    "kernelspec": {
      "name": "python3",
      "display_name": "Python 3"
    }
  },
  "cells": [
    {
      "cell_type": "markdown",
      "metadata": {
        "id": "iIKWo7pLmprh"
      },
      "source": [
        "Problem Link: https://leetcode.com/problems/kth-smallest-element-in-a-bst/"
      ]
    },
    {
      "cell_type": "code",
      "metadata": {
        "id": "NVcPlsDCmk1J"
      },
      "source": [
        "class BST:\n",
        "  def __init__(self , data):\n",
        "    self.data = data\n",
        "    self.left = None\n",
        "    self.right = None\n",
        "  def add_child(self, val):\n",
        "    if self.data == val:\n",
        "      return\n",
        "    if val < self.data:\n",
        "      if self.left:\n",
        "        self.left.add_child(val)\n",
        "      else:\n",
        "        self.left = BST(val)\n",
        "\n",
        "    else:\n",
        "      if self.right:\n",
        "        self.right.add_child(val)\n",
        "      else:\n",
        "        self.right = BST(val)\n",
        "  "
      ],
      "execution_count": 1,
      "outputs": []
    },
    {
      "cell_type": "code",
      "metadata": {
        "id": "qlKWuR_PoIa2"
      },
      "source": [
        "def inorder(node,k):\n",
        "  if node is not None:\n",
        "    inorder(node.left,k)\n",
        "    k.append(node.data)\n",
        "    inorder(node.right,k)\n",
        "  return k"
      ],
      "execution_count": 2,
      "outputs": []
    },
    {
      "cell_type": "code",
      "metadata": {
        "id": "zyJ6VdqwoVLY"
      },
      "source": [
        "def build_tree(elements):\n",
        "  root = BST(elements[0])\n",
        "\n",
        "  for i in range(1 , len(elements)):\n",
        "    root.add_child(elements[i])\n",
        "  return root"
      ],
      "execution_count": 3,
      "outputs": []
    },
    {
      "cell_type": "code",
      "metadata": {
        "id": "PjlWR6m2olg9",
        "outputId": "c278d948-a5d1-498b-85b1-3dda4afdf367",
        "colab": {
          "base_uri": "https://localhost:8080/"
        }
      },
      "source": [
        "numbers = [5,8,2,6,9,21,14,24,15,52]\n",
        "number_tree = build_tree(numbers)\n",
        "\n",
        "k= []\n",
        "p = 2\n",
        "inorder(number_tree , k)[p-1]"
      ],
      "execution_count": 4,
      "outputs": [
        {
          "output_type": "execute_result",
          "data": {
            "text/plain": [
              "5"
            ]
          },
          "metadata": {
            "tags": []
          },
          "execution_count": 4
        }
      ]
    }
  ]
}