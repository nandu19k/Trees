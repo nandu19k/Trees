{
  "nbformat": 4,
  "nbformat_minor": 0,
  "metadata": {
    "colab": {
      "name": "Path Sum.ipynb",
      "provenance": []
    },
    "kernelspec": {
      "name": "python3",
      "display_name": "Python 3"
    }
  },
  "cells": [
    {
      "cell_type": "markdown",
      "metadata": {
        "id": "JHyoJARLoUnw"
      },
      "source": [
        "Problem Link: https://leetcode.com/problems/path-sum/"
      ]
    },
    {
      "cell_type": "code",
      "metadata": {
        "id": "TkmowlSBoglZ"
      },
      "source": [
        "class Tree:\n",
        "  def __init__(self , data):\n",
        "    self.data = data\n",
        "    self.left = None\n",
        "    self.right = None"
      ],
      "execution_count": 1,
      "outputs": []
    },
    {
      "cell_type": "code",
      "metadata": {
        "id": "TjpklTdLpS-D"
      },
      "source": [
        "def path_sum(node , sum , cur):\n",
        "  if node is None:\n",
        "    return False\n",
        "  cur += node.data\n",
        "  if cur == sum and node.left is None and node.right is None:\n",
        "    return True\n",
        "  return path_sum(node.left , sum , cur) or path_sum(node.right , sum , cur)"
      ],
      "execution_count": 2,
      "outputs": []
    },
    {
      "cell_type": "code",
      "metadata": {
        "id": "6L0acyaYq1kO"
      },
      "source": [
        "root = Tree(5)\n",
        "root.left = Tree(4)\n",
        "root.right  = Tree(8)\n",
        "root.left.left = Tree(11)\n",
        "root.left.left.left = Tree(7)\n",
        "root.left.left.right = Tree(2)\n",
        "root.right.left = Tree(13)\n",
        "root.right.right = Tree(4)\n",
        "root.right.right.right = Tree(1)"
      ],
      "execution_count": 3,
      "outputs": []
    },
    {
      "cell_type": "code",
      "metadata": {
        "id": "clv7shetrdQs",
        "outputId": "be5bb22c-d117-4e81-c8da-29f33cf1a030",
        "colab": {
          "base_uri": "https://localhost:8080/"
        }
      },
      "source": [
        "path_sum(root , 22 , 0)"
      ],
      "execution_count": 4,
      "outputs": [
        {
          "output_type": "execute_result",
          "data": {
            "text/plain": [
              "True"
            ]
          },
          "metadata": {
            "tags": []
          },
          "execution_count": 4
        }
      ]
    },
    {
      "cell_type": "code",
      "metadata": {
        "id": "Ix859wgQriFv",
        "outputId": "eb87796e-de00-4b06-eeaa-7d66ee4a2893",
        "colab": {
          "base_uri": "https://localhost:8080/"
        }
      },
      "source": [
        "path_sum(root , 26 , 0)"
      ],
      "execution_count": 5,
      "outputs": [
        {
          "output_type": "execute_result",
          "data": {
            "text/plain": [
              "True"
            ]
          },
          "metadata": {
            "tags": []
          },
          "execution_count": 5
        }
      ]
    },
    {
      "cell_type": "code",
      "metadata": {
        "id": "iz1iFg-prl-M",
        "outputId": "206c949a-0e80-4b63-c03c-e23d2a5b8d59",
        "colab": {
          "base_uri": "https://localhost:8080/"
        }
      },
      "source": [
        "path_sum(root , 6 , 0)"
      ],
      "execution_count": 6,
      "outputs": [
        {
          "output_type": "execute_result",
          "data": {
            "text/plain": [
              "False"
            ]
          },
          "metadata": {
            "tags": []
          },
          "execution_count": 6
        }
      ]
    }
  ]
}