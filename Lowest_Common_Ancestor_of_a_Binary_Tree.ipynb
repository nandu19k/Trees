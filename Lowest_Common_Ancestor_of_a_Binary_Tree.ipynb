{
  "nbformat": 4,
  "nbformat_minor": 0,
  "metadata": {
    "colab": {
      "name": "Lowest Common Ancestor of a Binary Tree.ipynb",
      "provenance": []
    },
    "kernelspec": {
      "name": "python3",
      "display_name": "Python 3"
    }
  },
  "cells": [
    {
      "cell_type": "markdown",
      "metadata": {
        "id": "XO4MRvZ_r5a4"
      },
      "source": [
        "Problem Link: https://leetcode.com/problems/lowest-common-ancestor-of-a-binary-tree/"
      ]
    },
    {
      "cell_type": "code",
      "metadata": {
        "id": "colbILHKPrMe"
      },
      "source": [
        "class Node:\n",
        "  def __init__(self, data):\n",
        "    self.data = data\n",
        "    self.left = None\n",
        "    self.right = None"
      ],
      "execution_count": 1,
      "outputs": []
    },
    {
      "cell_type": "code",
      "metadata": {
        "id": "UnFAX6mHP6Sp"
      },
      "source": [
        "def LCA(node , p, q):\n",
        "  if node is None:\n",
        "    return \n",
        "  if node.data == p or node.data == q:\n",
        "    return node\n",
        "  left = LCA(node.left , p ,q)\n",
        "  right= LCA(node.right , p , q)\n",
        "\n",
        "  if left is None and right is None:\n",
        "    return None\n",
        "  if left is not None and right is not None:\n",
        "    return node\n",
        "  if left is None:\n",
        "    return right\n",
        "  return left"
      ],
      "execution_count": 2,
      "outputs": []
    },
    {
      "cell_type": "code",
      "metadata": {
        "id": "utxuAdQHW5PC"
      },
      "source": [
        "root = Node(1)\n",
        "root.left = Node(2)\n",
        "root.right = Node(3)\n",
        "root.left.left = Node(4)\n",
        "root.left.right = Node(5)\n",
        "root.right.left = Node(6)\n",
        "root.right.right = Node(7)"
      ],
      "execution_count": 3,
      "outputs": []
    },
    {
      "cell_type": "code",
      "metadata": {
        "id": "nk8h0WDKfJYt",
        "outputId": "e85997f8-7348-4b04-800e-8707a98fb72b",
        "colab": {
          "base_uri": "https://localhost:8080/"
        }
      },
      "source": [
        "LCA(root , 4,5).data"
      ],
      "execution_count": 4,
      "outputs": [
        {
          "output_type": "execute_result",
          "data": {
            "text/plain": [
              "2"
            ]
          },
          "metadata": {
            "tags": []
          },
          "execution_count": 4
        }
      ]
    }
  ]
}