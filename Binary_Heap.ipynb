{
  "nbformat": 4,
  "nbformat_minor": 0,
  "metadata": {
    "colab": {
      "name": "Binary Heap.ipynb",
      "provenance": []
    },
    "kernelspec": {
      "name": "python3",
      "display_name": "Python 3"
    }
  },
  "cells": [
    {
      "cell_type": "markdown",
      "metadata": {
        "id": "0jWUwuPjVTsE"
      },
      "source": [
        "Heap Data Structure : https://www.geeksforgeeks.org/heap-data-structure/"
      ]
    },
    {
      "cell_type": "code",
      "metadata": {
        "id": "yZIL0nDccejg"
      },
      "source": [
        "from heapq import heapify, heappush , heappop"
      ],
      "execution_count": 1,
      "outputs": []
    },
    {
      "cell_type": "code",
      "metadata": {
        "id": "ZlOjDbpZckN_"
      },
      "source": [
        "class MinHeap:\r\n",
        "  def __init__(self):\r\n",
        "    self.heap = []\r\n",
        "\r\n",
        "  def parent(self , i):\r\n",
        "    return (i-1)//2\r\n",
        "\r\n",
        "  def insertKey(self , k):\r\n",
        "    heappush(self.heap , k)\r\n",
        "  \r\n",
        "  def extractMin(self):\r\n",
        "    return heappop(self.heap)\r\n",
        "\r\n",
        "  def getMin(self):\r\n",
        "    return self.heap[0]\r\n",
        "\r\n",
        "  def deleteKey(self , i):\r\n",
        "    self.decreaseKey(i , float('-inf'))\r\n",
        "    self.extractMin()\r\n",
        "\r\n",
        "  def decreaseKey(self , i , val):\r\n",
        "    self.heap[i] = val\r\n",
        "    while (i !=0 and self.heap[self.parent(i)] > self.heap[i]):\r\n",
        "      self.heap[i] , self.heap[self.parent(i)] =  self.heap[self.parent(i)] , self.heap[i]\r\n",
        "  \r\n",
        "  def heapi(self):\r\n",
        "    return self.heap\r\n"
      ],
      "execution_count": 2,
      "outputs": []
    },
    {
      "cell_type": "code",
      "metadata": {
        "colab": {
          "base_uri": "https://localhost:8080/"
        },
        "id": "w0RM0Nxdd_BW",
        "outputId": "f0197c7d-6041-4ffe-ea92-273ec987c281"
      },
      "source": [
        "ob = MinHeap()\r\n",
        "ob.insertKey(23)\r\n",
        "ob.insertKey(37)\r\n",
        "ob.insertKey(13)\r\n",
        "ob.insertKey(3)\r\n",
        "ob.insertKey(25)\r\n",
        "ob.insertKey(12)\r\n",
        "\r\n",
        "print(ob.heapi())\r\n",
        "print(ob.getMin())\r\n",
        "\r\n",
        "print(ob.extractMin())\r\n",
        "\r\n",
        "print(ob.getMin())\r\n",
        "\r\n",
        "print(ob.heapi())\r\n",
        "\r\n",
        "ob.deleteKey(2)\r\n",
        "\r\n",
        "print(ob.heapi())\r\n",
        "print(ob.getMin())\r\n"
      ],
      "execution_count": 3,
      "outputs": [
        {
          "output_type": "stream",
          "text": [
            "[3, 13, 12, 37, 25, 23]\n",
            "3\n",
            "3\n",
            "12\n",
            "[12, 13, 23, 37, 25]\n",
            "[12, 13, 25, 37]\n",
            "12\n"
          ],
          "name": "stdout"
        }
      ]
    }
  ]
}