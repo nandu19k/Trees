{
  "nbformat": 4,
  "nbformat_minor": 0,
  "metadata": {
    "colab": {
      "name": "Binary Tree Maximum Path Sum.ipynb",
      "provenance": []
    },
    "kernelspec": {
      "name": "python3",
      "display_name": "Python 3"
    }
  },
  "cells": [
    {
      "cell_type": "markdown",
      "metadata": {
        "id": "TPahi6atzhdH"
      },
      "source": [
        "Problem Link: https://leetcode.com/problems/binary-tree-maximum-path-sum/"
      ]
    },
    {
      "cell_type": "code",
      "metadata": {
        "id": "c00BeD-vS3an"
      },
      "source": [
        "class Node:\n",
        "  def __init__(self, data):\n",
        "    self.val = data\n",
        "    self.left = None\n",
        "    self.right = None"
      ],
      "execution_count": 1,
      "outputs": []
    },
    {
      "cell_type": "code",
      "metadata": {
        "id": "BRtaiqgmTBCz"
      },
      "source": [
        "class Solution:\n",
        "    ans = -float(\"inf\")\n",
        "    def solution(self,node):\n",
        "        if(node is None):\n",
        "            return 0\n",
        "        left = self.solution(node.left)\n",
        "        right = self.solution(node.right)\n",
        "\n",
        "        mxSide = max(node.val,max(left,right)+node.val)\n",
        "        mxTop = max(mxSide,left+right+node.val)\n",
        "        self.ans = max(self.ans,mxTop)\n",
        "        return mxSide\n",
        "\n",
        "    def maxPathSum(self, root):\n",
        "        self.solution(root)\n",
        "        return self.ans"
      ],
      "execution_count": 2,
      "outputs": []
    },
    {
      "cell_type": "code",
      "metadata": {
        "id": "MuXiHFxZWBjA"
      },
      "source": [
        "root = Node(1) \n",
        "root.left = Node(2) \n",
        "root.right = Node(3) \n",
        "root.left.left = Node(4) \n",
        "root.left.right = Node(5) "
      ],
      "execution_count": 3,
      "outputs": []
    },
    {
      "cell_type": "code",
      "metadata": {
        "id": "7-BCPP4gWUkE",
        "outputId": "cfbd2f98-b1ae-4391-b83d-9532ea1b0129",
        "colab": {
          "base_uri": "https://localhost:8080/"
        }
      },
      "source": [
        "sol = Solution()\n",
        "sol.maxPathSum(root)"
      ],
      "execution_count": 4,
      "outputs": [
        {
          "output_type": "execute_result",
          "data": {
            "text/plain": [
              "11"
            ]
          },
          "metadata": {
            "tags": []
          },
          "execution_count": 4
        }
      ]
    }
  ]
}