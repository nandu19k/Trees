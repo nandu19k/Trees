{
  "nbformat": 4,
  "nbformat_minor": 0,
  "metadata": {
    "colab": {
      "name": "Binary Tree ZigZag Level Order Traversal.ipynb",
      "provenance": []
    },
    "kernelspec": {
      "name": "python3",
      "display_name": "Python 3"
    }
  },
  "cells": [
    {
      "cell_type": "markdown",
      "metadata": {
        "id": "vp_Y3sjbye4Z"
      },
      "source": [
        "Problem Link: https://leetcode.com/problems/binary-tree-zigzag-level-order-traversal/\n"
      ]
    },
    {
      "cell_type": "code",
      "metadata": {
        "id": "6Tx_0M6hzKD7"
      },
      "source": [
        "from collections import deque"
      ],
      "execution_count": 1,
      "outputs": []
    },
    {
      "cell_type": "code",
      "metadata": {
        "id": "jRl51GkZyRMY"
      },
      "source": [
        "class BinarySearchTree:\n",
        "  def __init__(self , data):\n",
        "    self.data = data\n",
        "    self.left= None\n",
        "    self.right = None\n",
        "\n",
        "  def add_child(self , data):\n",
        "    if self.data == data:\n",
        "      return\n",
        "    if self.data > data:\n",
        "      if self.left:\n",
        "        self.left.add_child(data)\n",
        "      else:\n",
        "        self.left = BinarySearchTree(data)\n",
        "\n",
        "    else:\n",
        "      if self.right:\n",
        "        self.right.add_child(data)\n",
        "      else:\n",
        "        self.right = BinarySearchTree(data)\n",
        "    "
      ],
      "execution_count": 2,
      "outputs": []
    },
    {
      "cell_type": "code",
      "metadata": {
        "id": "u55oBYLT8DRC"
      },
      "source": [
        "def zigzag(node):\n",
        "  if node is None:\n",
        "    return\n",
        "  \n",
        "  ans = []\n",
        "  q = deque([node])\n",
        "  zigzag = False\n",
        "\n",
        "  while q:\n",
        "    temp = []\n",
        "    for i in range(len(q)):\n",
        "      if zigzag:\n",
        "        f = q.pop()\n",
        "        temp.append(f.data)\n",
        "\n",
        "        if f.right is not None:\n",
        "          q.appendleft(f.right)\n",
        "        if f.left is not None:\n",
        "          q.appendleft(f.left)\n",
        "      else:\n",
        "        f = q.popleft()\n",
        "        temp.append(f.data)\n",
        "\n",
        "        if f.left is not None:\n",
        "          q.append(f.left)\n",
        "        if f.right is not None:\n",
        "          q.append(f.right)\n",
        "    if len(temp) >0:\n",
        "      ans.append(temp[:])\n",
        "    zigzag = not zigzag\n",
        "  return ans"
      ],
      "execution_count": 3,
      "outputs": []
    },
    {
      "cell_type": "code",
      "metadata": {
        "id": "BtDhfA5R4hNM"
      },
      "source": [
        "def build_tree(elements):\n",
        "  root = BinarySearchTree(elements[0])\n",
        "\n",
        "  for i in range(1 , len(elements)):\n",
        "    root.add_child(elements[i])\n",
        "  return root"
      ],
      "execution_count": 4,
      "outputs": []
    },
    {
      "cell_type": "code",
      "metadata": {
        "id": "Pi_dVQU440YR"
      },
      "source": [
        "numbers = [3,9,20,25,26,15,7]\n",
        "number_tree = build_tree(numbers)"
      ],
      "execution_count": 5,
      "outputs": []
    },
    {
      "cell_type": "code",
      "metadata": {
        "id": "s_vSiQpU5FWR",
        "outputId": "99c9ac43-bc23-477c-9c4d-109324e78043",
        "colab": {
          "base_uri": "https://localhost:8080/"
        }
      },
      "source": [
        "zigzag(number_tree)"
      ],
      "execution_count": 6,
      "outputs": [
        {
          "output_type": "execute_result",
          "data": {
            "text/plain": [
              "[[3], [9], [7, 20], [25, 15], [26]]"
            ]
          },
          "metadata": {
            "tags": []
          },
          "execution_count": 6
        }
      ]
    }
  ]
}