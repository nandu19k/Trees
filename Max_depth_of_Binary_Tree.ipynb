{
  "nbformat": 4,
  "nbformat_minor": 0,
  "metadata": {
    "colab": {
      "name": "Max depth of Binary Tree.ipynb",
      "provenance": []
    },
    "kernelspec": {
      "name": "python3",
      "display_name": "Python 3"
    }
  },
  "cells": [
    {
      "cell_type": "markdown",
      "metadata": {
        "id": "Yh8EsTERl7ry"
      },
      "source": [
        "Problem Link: https://leetcode.com/problems/maximum-depth-of-binary-tree/"
      ]
    },
    {
      "cell_type": "code",
      "metadata": {
        "id": "8F1xVgCxl3z2"
      },
      "source": [
        "class Node:\n",
        "  def __init__(self , data):\n",
        "    self.data = data\n",
        "    self.left = None\n",
        "    self.right = None"
      ],
      "execution_count": 1,
      "outputs": []
    },
    {
      "cell_type": "code",
      "metadata": {
        "id": "MnP7HAocmK0Y"
      },
      "source": [
        "def max_depth(node):\n",
        "  if node is None:\n",
        "    return 0\n",
        "  return 1 + max(max_depth(node.left) , max_depth(node.right))"
      ],
      "execution_count": 2,
      "outputs": []
    },
    {
      "cell_type": "code",
      "metadata": {
        "id": "bQ7a0TERnMd2"
      },
      "source": [
        "root = Node(1) \n",
        "root.left = Node(2) \n",
        "root.right = Node(3) \n",
        "root.left.left = Node(4) \n",
        "root.left.left.left = Node(5) "
      ],
      "execution_count": 3,
      "outputs": []
    },
    {
      "cell_type": "code",
      "metadata": {
        "id": "mUjmwKqWnTGq",
        "outputId": "5deaa406-f60a-40d7-a000-7418be8d121c",
        "colab": {
          "base_uri": "https://localhost:8080/"
        }
      },
      "source": [
        "max_depth(root)"
      ],
      "execution_count": 4,
      "outputs": [
        {
          "output_type": "execute_result",
          "data": {
            "text/plain": [
              "4"
            ]
          },
          "metadata": {
            "tags": []
          },
          "execution_count": 4
        }
      ]
    }
  ]
}