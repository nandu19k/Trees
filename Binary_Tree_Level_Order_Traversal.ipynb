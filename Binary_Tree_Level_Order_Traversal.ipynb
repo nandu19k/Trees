{
  "nbformat": 4,
  "nbformat_minor": 0,
  "metadata": {
    "colab": {
      "name": "Binary Tree Level Order Traversal.ipynb",
      "provenance": []
    },
    "kernelspec": {
      "name": "python3",
      "display_name": "Python 3"
    }
  },
  "cells": [
    {
      "cell_type": "markdown",
      "metadata": {
        "id": "vp_Y3sjbye4Z"
      },
      "source": [
        "Problem Link: https://leetcode.com/problems/binary-tree-level-order-traversal/\n"
      ]
    },
    {
      "cell_type": "code",
      "metadata": {
        "id": "6Tx_0M6hzKD7"
      },
      "source": [
        "from collections import deque"
      ],
      "execution_count": 3,
      "outputs": []
    },
    {
      "cell_type": "code",
      "metadata": {
        "id": "jRl51GkZyRMY"
      },
      "source": [
        "class BinarySearchTree:\n",
        "  def __init__(self , data):\n",
        "    self.data = data\n",
        "    self.left= None\n",
        "    self.right = None\n",
        "\n",
        "  def add_child(self , data):\n",
        "    if self.data == data:\n",
        "      return\n",
        "    if self.data >data:\n",
        "      if self.left:\n",
        "        self.left.add_child(data)\n",
        "      else:\n",
        "        self.left = BinarySearchTree(data)\n",
        "\n",
        "    else:\n",
        "      if self.right:\n",
        "        self.right.add_child(data)\n",
        "      else:\n",
        "        self.right = BinarySearchTree(data)\n",
        "    "
      ],
      "execution_count": 8,
      "outputs": []
    },
    {
      "cell_type": "code",
      "metadata": {
        "id": "sjFl-KdSzMfP"
      },
      "source": [
        "def level_order(node):\n",
        "  ans = []\n",
        "  if node is None:\n",
        "    return ans\n",
        "\n",
        "  q = deque([node])\n",
        "\n",
        "  while q:\n",
        "    n = len(q)\n",
        "    temp = []\n",
        "    for i in range(0 , n):\n",
        "      f = q.popleft()\n",
        "      temp.append(f.data)\n",
        "\n",
        "      if f.left is not None:\n",
        "        q.append(f.left)\n",
        "      if f.right is not None:\n",
        "        q.append(f.right)\n",
        "      \n",
        "    if len(temp) > 0:\n",
        "      ans.append(temp[:])\n",
        "      temp.clear()\n",
        "  return ans"
      ],
      "execution_count": 9,
      "outputs": []
    },
    {
      "cell_type": "code",
      "metadata": {
        "id": "BtDhfA5R4hNM"
      },
      "source": [
        "def build_tree(elements):\n",
        "  root = BinarySearchTree(elements[0])\n",
        "\n",
        "  for i in range(1 , len(elements)):\n",
        "    root.add_child(elements[i])\n",
        "  return root"
      ],
      "execution_count": 10,
      "outputs": []
    },
    {
      "cell_type": "code",
      "metadata": {
        "id": "Pi_dVQU440YR"
      },
      "source": [
        "numbers = [2,3,5,6,8,9,7,1,6,25,47,89,21,47,63,54]\n",
        "number_tree = build_tree(numbers)"
      ],
      "execution_count": 11,
      "outputs": []
    },
    {
      "cell_type": "code",
      "metadata": {
        "id": "s_vSiQpU5FWR",
        "outputId": "e12da43c-a710-44e7-d07a-af8933897750",
        "colab": {
          "base_uri": "https://localhost:8080/"
        }
      },
      "source": [
        "level_order(number_tree)"
      ],
      "execution_count": 12,
      "outputs": [
        {
          "output_type": "execute_result",
          "data": {
            "text/plain": [
              "[[2], [1, 3], [5], [6], [8], [7, 9], [25], [21, 47], [89], [63], [54]]"
            ]
          },
          "metadata": {
            "tags": []
          },
          "execution_count": 12
        }
      ]
    }
  ]
}