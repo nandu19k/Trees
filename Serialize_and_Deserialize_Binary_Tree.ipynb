{
  "nbformat": 4,
  "nbformat_minor": 0,
  "metadata": {
    "colab": {
      "name": "Serialize and Deserialize Binary Tree.ipynb",
      "provenance": []
    },
    "kernelspec": {
      "name": "python3",
      "display_name": "Python 3"
    }
  },
  "cells": [
    {
      "cell_type": "markdown",
      "metadata": {
        "id": "TPahi6atzhdH"
      },
      "source": [
        "Problem Link: https://leetcode.com/problems/serialize-and-deserialize-binary-tree/"
      ]
    },
    {
      "cell_type": "code",
      "metadata": {
        "id": "RI_nLL8TDpqF"
      },
      "source": [
        "class Tree:\n",
        "  def __init__(self , data):\n",
        "    self.data = data\n",
        "    self.left = None\n",
        "    self.right= None"
      ],
      "execution_count": 1,
      "outputs": []
    },
    {
      "cell_type": "code",
      "metadata": {
        "id": "q-Hd49zBELto"
      },
      "source": [
        "def serialize(node):\n",
        "  if node is None:\n",
        "    return 'X#'\n",
        "  return str(node.data) + '#'+ serialize(node.left)+serialize(node.right)"
      ],
      "execution_count": 2,
      "outputs": []
    },
    {
      "cell_type": "code",
      "metadata": {
        "id": "BmpDsguNEc1b"
      },
      "source": [
        "def deserialize(data):\n",
        "\n",
        "  def dfs():\n",
        "    val = next(data)\n",
        "    if val == 'X':\n",
        "      return None\n",
        "    node = Tree(int(val))\n",
        "    node.left = dfs()\n",
        "    node.right = dfs()\n",
        "    return node\n",
        "\n",
        "  data = iter(data.split('#'))\n",
        "  return dfs()"
      ],
      "execution_count": 3,
      "outputs": []
    },
    {
      "cell_type": "code",
      "metadata": {
        "id": "uzqWqGi_Fl6T"
      },
      "source": [
        "node = Tree(3)\n",
        "node.left = Tree(5)\n",
        "node.right= Tree(6)\n",
        "node.left.left = Tree(8)\n",
        "node.right.left = Tree(9)\n",
        "node.right.left.right = Tree(1)"
      ],
      "execution_count": 4,
      "outputs": []
    },
    {
      "cell_type": "code",
      "metadata": {
        "id": "37cu5t_lF4BA",
        "outputId": "56545665-b128-432a-daff-f31a8d8363a4",
        "colab": {
          "base_uri": "https://localhost:8080/",
          "height": 35
        }
      },
      "source": [
        "serialize(node)"
      ],
      "execution_count": 5,
      "outputs": [
        {
          "output_type": "execute_result",
          "data": {
            "application/vnd.google.colaboratory.intrinsic+json": {
              "type": "string"
            },
            "text/plain": [
              "'3#5#8#X#X#X#6#9#X#1#X#X#X#'"
            ]
          },
          "metadata": {
            "tags": []
          },
          "execution_count": 5
        }
      ]
    },
    {
      "cell_type": "code",
      "metadata": {
        "id": "T2XgfI6SF8e6",
        "outputId": "baece20d-106c-42c5-848b-bb0bac737e2c",
        "colab": {
          "base_uri": "https://localhost:8080/"
        }
      },
      "source": [
        "deserialize(serialize(node))"
      ],
      "execution_count": 6,
      "outputs": [
        {
          "output_type": "execute_result",
          "data": {
            "text/plain": [
              "<__main__.Tree at 0x7effce3ab710>"
            ]
          },
          "metadata": {
            "tags": []
          },
          "execution_count": 6
        }
      ]
    },
    {
      "cell_type": "code",
      "metadata": {
        "id": "f-LDHwvmGZll",
        "outputId": "8143a581-0666-4318-e685-442868a684e4",
        "colab": {
          "base_uri": "https://localhost:8080/",
          "height": 35
        }
      },
      "source": [
        "serialize(deserialize(serialize(node)))"
      ],
      "execution_count": 7,
      "outputs": [
        {
          "output_type": "execute_result",
          "data": {
            "application/vnd.google.colaboratory.intrinsic+json": {
              "type": "string"
            },
            "text/plain": [
              "'3#5#8#X#X#X#6#9#X#1#X#X#X#'"
            ]
          },
          "metadata": {
            "tags": []
          },
          "execution_count": 7
        }
      ]
    }
  ]
}