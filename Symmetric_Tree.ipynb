{
  "nbformat": 4,
  "nbformat_minor": 0,
  "metadata": {
    "colab": {
      "name": "Symmetric Tree.ipynb",
      "provenance": []
    },
    "kernelspec": {
      "name": "python3",
      "display_name": "Python 3"
    }
  },
  "cells": [
    {
      "cell_type": "markdown",
      "metadata": {
        "id": "diLE8REgeuVc"
      },
      "source": [
        "Problem Link: https://leetcode.com/problems/symmetric-tree/"
      ]
    },
    {
      "cell_type": "code",
      "metadata": {
        "id": "NSXJWRn7kdfO"
      },
      "source": [
        "class Tree:\n",
        "  def __init__(self , data):\n",
        "    self.data= data\n",
        "    self.left = None\n",
        "    self.right = None"
      ],
      "execution_count": 1,
      "outputs": []
    },
    {
      "cell_type": "code",
      "metadata": {
        "id": "rTslK8oJkgwe"
      },
      "source": [
        "def IsMirror(t1 , t2):\n",
        "  if t1 is None and t2 is None:\n",
        "    return True\n",
        "  if t1 is None or t2 is None:\n",
        "    return False\n",
        "  return (t1.data == t2.data) and IsMirror(t1.right , t2.left) and IsMirror(t1.left , t2.right)"
      ],
      "execution_count": 2,
      "outputs": []
    },
    {
      "cell_type": "code",
      "metadata": {
        "id": "86VaQ5OClGTq"
      },
      "source": [
        "def IsSymmetric(root):\n",
        "  return IsMirror(root , root)"
      ],
      "execution_count": 3,
      "outputs": []
    },
    {
      "cell_type": "code",
      "metadata": {
        "id": "qB9ahA3llMqv",
        "outputId": "142625dd-9dbb-4d9a-dc9d-0ea7e19d6d7b",
        "colab": {
          "base_uri": "https://localhost:8080/"
        }
      },
      "source": [
        "root = Tree(5)\n",
        "root.left = Tree(3)\n",
        "root.right = Tree(2)\n",
        "root.left.left = Tree(9)\n",
        "root.right.right = Tree(0)\n",
        "IsSymmetric(root)"
      ],
      "execution_count": 5,
      "outputs": [
        {
          "output_type": "execute_result",
          "data": {
            "text/plain": [
              "False"
            ]
          },
          "metadata": {
            "tags": []
          },
          "execution_count": 5
        }
      ]
    },
    {
      "cell_type": "code",
      "metadata": {
        "id": "c38U0uQ1lohB"
      },
      "source": [
        ""
      ],
      "execution_count": null,
      "outputs": []
    }
  ]
}